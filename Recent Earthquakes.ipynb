{
 "metadata": {
  "name": "Recent Earthquakes"
 },
 "nbformat": 3,
 "nbformat_minor": 0,
 "worksheets": [
  {
   "cells": [
    {
     "cell_type": "markdown",
     "metadata": {},
     "source": "Group 3 Recent Earthquakes Data Cleaning and Visualization.\nInitial steps: import the following libraries and choose the url you want to pull the data from."
    },
    {
     "cell_type": "code",
     "collapsed": false,
     "input": "import urllib\nimport json\nimport pandas as pd\nurl=\"http://earthquake.usgs.gov/earthquakes/feed/v1.0/summary/significant_month.geojson\"",
     "language": "python",
     "metadata": {},
     "outputs": [],
     "prompt_number": 30
    },
    {
     "cell_type": "markdown",
     "metadata": {},
     "source": "Use the JSON library to parse the data into a form we can read."
    },
    {
     "cell_type": "code",
     "collapsed": false,
     "input": "data=json.loads(urllib.urlopen(url).read())\nrecords=len(data[unicode(\"features\")])",
     "language": "python",
     "metadata": {},
     "outputs": [],
     "prompt_number": 31
    },
    {
     "cell_type": "markdown",
     "metadata": {},
     "source": "Define functions to extract the values from a single cell."
    },
    {
     "cell_type": "code",
     "collapsed": false,
     "input": "def getEpicData(dataset, path, number):\n    if type(path)!=list:\n        print \"2nd argument must be a list\"\n        return\n    if type(number)!=int:\n        print \"3rd argument must be a int\"\n    if type(dataset)==dict:\n        data=dataset[u'features'][number]\n    else:\n        data=dataset[number]\n    for nr in range(len(path)):\n        if type(path[nr])==str:\n            data=data[unicode(path[nr])]\n        else:\n            data=data[path[nr]]\n    if type(data)==unicode:\n        data=str(data)\n    return data\n\nkeyId=[\"id\"]\n\nkeyGeoLongtitude=[\"geometry\",\"coordinates\",0]\nkeyGeoLatitude  =[\"geometry\",\"coordinates\",1]\nkeyGeoDepth     =[\"geometry\",\"coordinates\",2]\nkeyGeoType      =[\"geometry\",\"type\"]\n\nkeyPropAlert  =[\"properties\",\"alert\"]\nkeyPropCdi    =[\"properties\",\"cdi\"]\nkeyPropCode   =[\"properties\",\"code\"]\nkeyPropDetail =[\"properties\",\"detail\"]\nkeyPropDmin   =[\"properties\",\"dmin\"]\nkeyPropFelt   =[\"properties\",\"felt\"]\nkeyPropGap    =[\"properties\",\"gap\"]\nkeyPropIds    =[\"properties\",\"ids\"]\nkeyPropMag    =[\"properties\",\"mag\"]\nkeyPropMagType=[\"properties\",\"magType\"]\nkeyPropMmi    =[\"properties\",\"mmi\"]\nkeyPropNet    =[\"properties\",\"net\"]\nkeyPropNst    =[\"properties\",\"nst\"]\nkeyPropPlace  =[\"properties\",\"place\"]\nkeyPropRms    =[\"properties\",\"rms\"]\nkeyPropSig    =[\"properties\",\"sig\"]\nkeyPropSources=[\"properties\",\"sources\"]\nkeyPropStatus =[\"properties\",\"status\"]\nkeyPropTime   =[\"properties\",\"time\"]\nkeyPropTitle  =[\"properties\",\"title\"]\nkeyPropTsunami=[\"properties\",\"tsunami\"]\nkeyPropType   =[\"properties\",\"type\"]\nkeyPropTypes  =[\"properties\",\"types\"]\nkeyPropTz     =[\"properties\",\"tz\"]\nkeyPropUpdated=[\"properties\",\"updated\"]\nkeyPropUrl    =[\"properties\",\"url\"]\n",
     "language": "python",
     "metadata": {},
     "outputs": [],
     "prompt_number": 32
    },
    {
     "cell_type": "markdown",
     "metadata": {},
     "source": "Get these values into individual lists."
    },
    {
     "cell_type": "code",
     "collapsed": false,
     "input": "def getEpicDataList(dataset, path, records):\n    datalist=[]\n    for nr in range(records):\n        info=getEpicData(dataset, path, nr)\n        datalist.append(info)\n    return datalist\n    \n# Extract data into lists\nlistId=getEpicDataList(data, keyId, records)\n\nlistGeoLongitude=getEpicDataList(data, keyGeoLongtitude, records)\nlistGeoLatitude=getEpicDataList(data, keyGeoLatitude, records)\nlistGeoDepth=getEpicDataList(data, keyGeoDepth, records)\nlistGeoType=getEpicDataList(data, keyGeoType, records)\n\nlistPropAlert=getEpicDataList(data, keyPropAlert, records)\nlistPropCdi=getEpicDataList(data, keyPropCdi, records)\nlistPropCode=getEpicDataList(data, keyPropCode, records)\nlistPropDetail=getEpicDataList(data, keyPropDetail, records)\nlistPropDmin=getEpicDataList(data, keyPropDmin, records)\nlistPropFelt=getEpicDataList(data, keyPropFelt, records)\nlistPropGap=getEpicDataList(data, keyPropGap, records)\nlistPropIds=getEpicDataList(data, keyPropIds, records)\nlistPropMag=getEpicDataList(data, keyPropMag, records)\nlistPropMagType=getEpicDataList(data, keyPropMagType, records)\nlistPropMmi=getEpicDataList(data, keyPropMmi, records)\nlistPropNet=getEpicDataList(data, keyPropNet, records)\nlistPropNst=getEpicDataList(data, keyPropNst, records)\nlistPropPlace=getEpicDataList(data, keyPropPlace, records)\nlistPropRms=getEpicDataList(data, keyPropRms, records)\nlistPropSig=getEpicDataList(data, keyPropSig, records)\nlistPropSources=getEpicDataList(data, keyPropSources, records)\nlistPropStatus=getEpicDataList(data, keyPropStatus, records)\nlistPropTime=getEpicDataList(data, keyPropTime, records)\nlistPropTitle=getEpicDataList(data, keyPropTitle, records)\nlistPropTsunami=getEpicDataList(data, keyPropTsunami, records)\nlistPropType=getEpicDataList(data, keyPropType, records)\nlistPropTypes=getEpicDataList(data, keyPropTypes, records)\nlistPropTz=getEpicDataList(data, keyPropTz, records)\nlistPropUpdated=getEpicDataList(data, keyPropUpdated, records)\nlistPropUrl=getEpicDataList(data, keyPropUrl, records)\n\n# More datas from the detailed json\n\n#listPropEventTime=[]\n#listPropPlace=[]\n#listNearbyCities=[]\n#for jsonurl in listPropDetail:\n #   detail=json.loads(urllib.urlopen(jsonurl).read())\n  #  listPropEventTime.append(str(detail[unicode(\"properties\")][unicode(\"products\")][unicode(\"origin\")][0][unicode(\"properties\")][unicode(\"eventtime\")]))\n   # listPropPlace.append(str(detail[unicode(\"properties\")][unicode(\"place\")]))\n    #nearby_json_url=str(detail[unicode(\"properties\")][unicode(\"products\")][unicode(\"nearby-cities\")][0][unicode(\"contents\")][unicode(\"nearby-cities.json\")][unicode(\"url\")])\n    #nearby_cities=json.loads(urllib.urlopen(nearby_json_url).read())\n    #nr_cities=len(nearby_cities)\n    #listNearbyCities.append(str(getEpicDataList(nearby_cities, [\"name\"], nr_cities)))\n    \n",
     "language": "python",
     "metadata": {},
     "outputs": [],
     "prompt_number": 33
    },
    {
     "cell_type": "markdown",
     "metadata": {},
     "source": "Create a data frame of the relevant variables: Source, Network, Time, Longitude, Latitude, Depth, NST, Place, and Magnitude"
    },
    {
     "cell_type": "code",
     "collapsed": false,
     "input": "quakes_df = pd.DataFrame({\"Source\":listPropCode,\"Network\":listPropNet,\"Time\":listPropTime,\"Longitude\":listGeoLongitude,\"Latitude\":listGeoLatitude,\n\"Depth\":listGeoDepth,\"NST\":listPropNst,\"Place\":listPropPlace,\"Magnitude\":listPropMag})\nquakes_df",
     "language": "python",
     "metadata": {},
     "outputs": [
      {
       "html": "<div style=\"max-height:1000px;max-width:1500px;overflow:auto;\">\n<table border=\"1\" class=\"dataframe\">\n  <thead>\n    <tr style=\"text-align: right;\">\n      <th></th>\n      <th>Depth</th>\n      <th>Latitude</th>\n      <th>Longitude</th>\n      <th>Magnitude</th>\n      <th>NST</th>\n      <th>Network</th>\n      <th>Place</th>\n      <th>Source</th>\n      <th>Time</th>\n    </tr>\n  </thead>\n  <tbody>\n    <tr>\n      <th>0 </th>\n      <td>   7.98</td>\n      <td> 26.2676</td>\n      <td>-110.1778</td>\n      <td> 6.5</td>\n      <td> None</td>\n      <td> us</td>\n      <td>             75km SW of Etchoropo, Mexico</td>\n      <td> b000khbc</td>\n      <td> 1382205296970</td>\n    </tr>\n    <tr>\n      <th>1 </th>\n      <td>  54.06</td>\n      <td> -6.4873</td>\n      <td> 154.9280</td>\n      <td> 6.8</td>\n      <td> None</td>\n      <td> us</td>\n      <td>    64km WSW of Panguna, Papua New Guinea</td>\n      <td> b000kemb</td>\n      <td> 1381919460930</td>\n    </tr>\n    <tr>\n      <th>2 </th>\n      <td>  20.00</td>\n      <td>  9.8662</td>\n      <td> 124.0115</td>\n      <td> 7.1</td>\n      <td> None</td>\n      <td> us</td>\n      <td>         2km NE of Catigbian, Philippines</td>\n      <td> b000kdb4</td>\n      <td> 1381795952900</td>\n    </tr>\n    <tr>\n      <th>3 </th>\n      <td>  36.19</td>\n      <td> 35.4866</td>\n      <td>  23.2605</td>\n      <td> 6.4</td>\n      <td> None</td>\n      <td> us</td>\n      <td>               30km W of Platanos, Greece</td>\n      <td> b000kbn7</td>\n      <td> 1381583512440</td>\n    </tr>\n    <tr>\n      <th>4 </th>\n      <td>  79.41</td>\n      <td> 10.8768</td>\n      <td> -62.2780</td>\n      <td> 6.1</td>\n      <td> None</td>\n      <td> us</td>\n      <td>             33km N of Gueiria, Venezuela</td>\n      <td> b000kbhi</td>\n      <td> 1381543829550</td>\n    </tr>\n    <tr>\n      <th>5 </th>\n      <td>   8.70</td>\n      <td> 40.9835</td>\n      <td>-124.7498</td>\n      <td> 4.9</td>\n      <td> None</td>\n      <td> nc</td>\n      <td>           53km WNW of Eureka, California</td>\n      <td> 72086051</td>\n      <td> 1381532737300</td>\n    </tr>\n    <tr>\n      <th>6 </th>\n      <td>  12.94</td>\n      <td>-38.6016</td>\n      <td>  78.3800</td>\n      <td> 6.4</td>\n      <td> None</td>\n      <td> us</td>\n      <td>           113km SE of Amsterdam Island, </td>\n      <td> b000k6nk</td>\n      <td> 1380907573740</td>\n    </tr>\n    <tr>\n      <th>7 </th>\n      <td> 578.24</td>\n      <td> 53.1734</td>\n      <td> 152.7664</td>\n      <td> 6.7</td>\n      <td> None</td>\n      <td> us</td>\n      <td>                           Sea of Okhotsk</td>\n      <td> b000k3c1</td>\n      <td> 1380598701850</td>\n    </tr>\n    <tr>\n      <th>8 </th>\n      <td>  42.09</td>\n      <td>-30.8801</td>\n      <td>-178.3782</td>\n      <td> 6.5</td>\n      <td> None</td>\n      <td> us</td>\n      <td> 78km NE of L'Esperance Rock, New Zealand</td>\n      <td> b000k2h2</td>\n      <td> 1380520555680</td>\n    </tr>\n    <tr>\n      <th>9 </th>\n      <td>  12.00</td>\n      <td> 27.1761</td>\n      <td>  65.5043</td>\n      <td> 6.8</td>\n      <td> None</td>\n      <td> us</td>\n      <td>             84km NNE of Awaran, Pakistan</td>\n      <td> b000k1gb</td>\n      <td> 1380353646450</td>\n    </tr>\n    <tr>\n      <th>10</th>\n      <td>  40.00</td>\n      <td>-15.8389</td>\n      <td> -74.5094</td>\n      <td> 7.1</td>\n      <td> None</td>\n      <td> us</td>\n      <td>                  46km SSE of Acari, Peru</td>\n      <td> b000jzma</td>\n      <td> 1380127363140</td>\n    </tr>\n    <tr>\n      <th>11</th>\n      <td>  15.00</td>\n      <td> 26.9708</td>\n      <td>  65.5198</td>\n      <td> 7.7</td>\n      <td> None</td>\n      <td> us</td>\n      <td>             63km NNE of Awaran, Pakistan</td>\n      <td> b000jyiv</td>\n      <td> 1380022187980</td>\n    </tr>\n  </tbody>\n</table>\n</div>",
       "output_type": "pyout",
       "prompt_number": 34,
       "text": "     Depth  Latitude  Longitude  Magnitude   NST Network  \\\n0     7.98   26.2676  -110.1778        6.5  None      us   \n1    54.06   -6.4873   154.9280        6.8  None      us   \n2    20.00    9.8662   124.0115        7.1  None      us   \n3    36.19   35.4866    23.2605        6.4  None      us   \n4    79.41   10.8768   -62.2780        6.1  None      us   \n5     8.70   40.9835  -124.7498        4.9  None      nc   \n6    12.94  -38.6016    78.3800        6.4  None      us   \n7   578.24   53.1734   152.7664        6.7  None      us   \n8    42.09  -30.8801  -178.3782        6.5  None      us   \n9    12.00   27.1761    65.5043        6.8  None      us   \n10   40.00  -15.8389   -74.5094        7.1  None      us   \n11   15.00   26.9708    65.5198        7.7  None      us   \n\n                                       Place    Source           Time  \n0               75km SW of Etchoropo, Mexico  b000khbc  1382205296970  \n1      64km WSW of Panguna, Papua New Guinea  b000kemb  1381919460930  \n2           2km NE of Catigbian, Philippines  b000kdb4  1381795952900  \n3                 30km W of Platanos, Greece  b000kbn7  1381583512440  \n4               33km N of Gueiria, Venezuela  b000kbhi  1381543829550  \n5             53km WNW of Eureka, California  72086051  1381532737300  \n6             113km SE of Amsterdam Island,   b000k6nk  1380907573740  \n7                             Sea of Okhotsk  b000k3c1  1380598701850  \n8   78km NE of L'Esperance Rock, New Zealand  b000k2h2  1380520555680  \n9               84km NNE of Awaran, Pakistan  b000k1gb  1380353646450  \n10                   46km SSE of Acari, Peru  b000jzma  1380127363140  \n11              63km NNE of Awaran, Pakistan  b000jyiv  1380022187980  "
      }
     ],
     "prompt_number": 34
    },
    {
     "cell_type": "markdown",
     "metadata": {},
     "source": "Earthquakes are constantly happening and so the data is changing every minute. Let's cache this data we are working with so that we have a copy to work with and we will always have this in case we have no internet connection or the government stops maintaining the feed."
    },
    {
     "cell_type": "code",
     "collapsed": false,
     "input": "from datetime import datetime\nnow=datetime.now()\nnow=str(now)\nfeed = url.split(\"/\")[len(url.split(\"/\"))-1]\nfeed = feed.split(\".\")[0]\nfilename = feed+\"-\"+now+\".csv\"\nprint filename\n",
     "language": "python",
     "metadata": {},
     "outputs": [
      {
       "output_type": "stream",
       "stream": "stdout",
       "text": "4-2013-10-21 19:39:28.449733.csv\n"
      }
     ],
     "prompt_number": 11
    },
    {
     "cell_type": "markdown",
     "metadata": {},
     "source": "ls shows the files you now have in your home directory. There should be a csv file for the one you just read and parsed."
    },
    {
     "cell_type": "code",
     "collapsed": false,
     "input": "ls",
     "language": "python",
     "metadata": {},
     "outputs": [
      {
       "output_type": "stream",
       "stream": "stdout",
       "text": "all_hour-2013-10-20 14:36:15.307874.csv  Recent Earthquakes.ipynb\r\nall_hour-2013-10-20 14:46:56.307924.csv  Recent Earthquakes.py\r\neqs7day-M1-2013-10-19.csv                ttest.csv\r\neqs7day-M1-2013-10-20.csv                Untitled0.ipynb\r\nREADME.md                                Untitled0.py\r\n"
      }
     ],
     "prompt_number": 35
    },
    {
     "cell_type": "markdown",
     "metadata": {},
     "source": "If you want to use a cached copy from your home directory, remove the comments (###) and run the following line with your choice of file. "
    },
    {
     "cell_type": "code",
     "collapsed": false,
     "input": "### quakes_df = pd.read_csv(\"all_hour-2013-10-20 14:36:15.307874.csv\")",
     "language": "python",
     "metadata": {},
     "outputs": []
    },
    {
     "cell_type": "markdown",
     "metadata": {},
     "source": "We can filter out the dirty data using [dropna](http://pandas.pydata.org/pandas-docs/dev/generated/pandas.DataFrame.dropna.html) to drop any rows that contain **NaN**."
    },
    {
     "cell_type": "code",
     "collapsed": false,
     "input": "clean_data = quakes_df.dropna(axis=0, how='all')\n### Using all instead of any because NST is often NA or None, so you would have no earthquake data in this case.\nclean_data[0:10]",
     "language": "python",
     "metadata": {},
     "outputs": [
      {
       "html": "<div style=\"max-height:1000px;max-width:1500px;overflow:auto;\">\n<table border=\"1\" class=\"dataframe\">\n  <thead>\n    <tr style=\"text-align: right;\">\n      <th></th>\n      <th>Depth</th>\n      <th>Latitude</th>\n      <th>Longitude</th>\n      <th>Magnitude</th>\n      <th>NST</th>\n      <th>Network</th>\n      <th>Place</th>\n      <th>Source</th>\n      <th>Time</th>\n    </tr>\n  </thead>\n  <tbody>\n    <tr>\n      <th>0</th>\n      <td>   7.98</td>\n      <td> 26.2676</td>\n      <td>-110.1778</td>\n      <td> 6.5</td>\n      <td> None</td>\n      <td> us</td>\n      <td>             75km SW of Etchoropo, Mexico</td>\n      <td> b000khbc</td>\n      <td> 1382205296970</td>\n    </tr>\n    <tr>\n      <th>1</th>\n      <td>  54.06</td>\n      <td> -6.4873</td>\n      <td> 154.9280</td>\n      <td> 6.8</td>\n      <td> None</td>\n      <td> us</td>\n      <td>    64km WSW of Panguna, Papua New Guinea</td>\n      <td> b000kemb</td>\n      <td> 1381919460930</td>\n    </tr>\n    <tr>\n      <th>2</th>\n      <td>  20.00</td>\n      <td>  9.8662</td>\n      <td> 124.0115</td>\n      <td> 7.1</td>\n      <td> None</td>\n      <td> us</td>\n      <td>         2km NE of Catigbian, Philippines</td>\n      <td> b000kdb4</td>\n      <td> 1381795952900</td>\n    </tr>\n    <tr>\n      <th>3</th>\n      <td>  36.19</td>\n      <td> 35.4866</td>\n      <td>  23.2605</td>\n      <td> 6.4</td>\n      <td> None</td>\n      <td> us</td>\n      <td>               30km W of Platanos, Greece</td>\n      <td> b000kbn7</td>\n      <td> 1381583512440</td>\n    </tr>\n    <tr>\n      <th>4</th>\n      <td>  79.41</td>\n      <td> 10.8768</td>\n      <td> -62.2780</td>\n      <td> 6.1</td>\n      <td> None</td>\n      <td> us</td>\n      <td>             33km N of Gueiria, Venezuela</td>\n      <td> b000kbhi</td>\n      <td> 1381543829550</td>\n    </tr>\n    <tr>\n      <th>5</th>\n      <td>   8.70</td>\n      <td> 40.9835</td>\n      <td>-124.7498</td>\n      <td> 4.9</td>\n      <td> None</td>\n      <td> nc</td>\n      <td>           53km WNW of Eureka, California</td>\n      <td> 72086051</td>\n      <td> 1381532737300</td>\n    </tr>\n    <tr>\n      <th>6</th>\n      <td>  12.94</td>\n      <td>-38.6016</td>\n      <td>  78.3800</td>\n      <td> 6.4</td>\n      <td> None</td>\n      <td> us</td>\n      <td>           113km SE of Amsterdam Island, </td>\n      <td> b000k6nk</td>\n      <td> 1380907573740</td>\n    </tr>\n    <tr>\n      <th>7</th>\n      <td> 578.24</td>\n      <td> 53.1734</td>\n      <td> 152.7664</td>\n      <td> 6.7</td>\n      <td> None</td>\n      <td> us</td>\n      <td>                           Sea of Okhotsk</td>\n      <td> b000k3c1</td>\n      <td> 1380598701850</td>\n    </tr>\n    <tr>\n      <th>8</th>\n      <td>  42.09</td>\n      <td>-30.8801</td>\n      <td>-178.3782</td>\n      <td> 6.5</td>\n      <td> None</td>\n      <td> us</td>\n      <td> 78km NE of L'Esperance Rock, New Zealand</td>\n      <td> b000k2h2</td>\n      <td> 1380520555680</td>\n    </tr>\n    <tr>\n      <th>9</th>\n      <td>  12.00</td>\n      <td> 27.1761</td>\n      <td>  65.5043</td>\n      <td> 6.8</td>\n      <td> None</td>\n      <td> us</td>\n      <td>             84km NNE of Awaran, Pakistan</td>\n      <td> b000k1gb</td>\n      <td> 1380353646450</td>\n    </tr>\n  </tbody>\n</table>\n</div>",
       "output_type": "pyout",
       "prompt_number": 36,
       "text": "    Depth  Latitude  Longitude  Magnitude   NST Network  \\\n0    7.98   26.2676  -110.1778        6.5  None      us   \n1   54.06   -6.4873   154.9280        6.8  None      us   \n2   20.00    9.8662   124.0115        7.1  None      us   \n3   36.19   35.4866    23.2605        6.4  None      us   \n4   79.41   10.8768   -62.2780        6.1  None      us   \n5    8.70   40.9835  -124.7498        4.9  None      nc   \n6   12.94  -38.6016    78.3800        6.4  None      us   \n7  578.24   53.1734   152.7664        6.7  None      us   \n8   42.09  -30.8801  -178.3782        6.5  None      us   \n9   12.00   27.1761    65.5043        6.8  None      us   \n\n                                      Place    Source           Time  \n0              75km SW of Etchoropo, Mexico  b000khbc  1382205296970  \n1     64km WSW of Panguna, Papua New Guinea  b000kemb  1381919460930  \n2          2km NE of Catigbian, Philippines  b000kdb4  1381795952900  \n3                30km W of Platanos, Greece  b000kbn7  1381583512440  \n4              33km N of Gueiria, Venezuela  b000kbhi  1381543829550  \n5            53km WNW of Eureka, California  72086051  1381532737300  \n6            113km SE of Amsterdam Island,   b000k6nk  1380907573740  \n7                            Sea of Okhotsk  b000k3c1  1380598701850  \n8  78km NE of L'Esperance Rock, New Zealand  b000k2h2  1380520555680  \n9              84km NNE of Awaran, Pakistan  b000k1gb  1380353646450  "
      }
     ],
     "prompt_number": 36
    },
    {
     "cell_type": "markdown",
     "metadata": {},
     "source": "In the code above note that I saved the results of `data.dropna()` into a different variable `clean_data` rather than over-writing the old variable `data`. **Why?** Why not just re-use old variable names? And if we did re-use old variable names what extra danger do we have to keep in mind while using the IPython Notebook?"
    },
    {
     "cell_type": "markdown",
     "metadata": {},
     "source": "This is Aaron's example Alaska code:"
    },
    {
     "cell_type": "code",
     "collapsed": false,
     "input": "alaska = clean_data[clean_data.Network == 'ak']\nalaska[0:10]",
     "language": "python",
     "metadata": {},
     "outputs": [
      {
       "html": "<div style=\"max-height:1000px;max-width:1500px;overflow:auto;\">\n<table border=\"1\" class=\"dataframe\">\n  <tbody>\n    <tr>\n      <td>Int64Index([], dtype=int64)</td>\n      <td>Empty DataFrame</td>\n    </tr>\n  </tbody>\n</table>\n</div>",
       "output_type": "pyout",
       "prompt_number": 28,
       "text": "Empty DataFrame\nColumns: [Depth, Latitude, Longitude, Magnitude, NST, Network, Place, Source, Time]\nIndex: []"
      }
     ],
     "prompt_number": 28
    },
    {
     "cell_type": "code",
     "collapsed": false,
     "input": "from mpl_toolkits.basemap import Basemap\n\ndef plot_quakes(quakes):\n    m = Basemap(llcrnrlon=-180,llcrnrlat=50.,\n                urcrnrlon=-120.,urcrnrlat=72,\n                resolution='l',area_thresh=1000.,projection='merc',\n                lat_0=62.9540,lon_0=-149.2697)\n    m.drawcoastlines()\n    m.drawcountries()\n    m.fillcontinents(color='coral',lake_color='blue')\n    m.drawmapboundary(fill_color='aqua')\n    x, y = m(quakes.Lon, quakes.Lat)\n    m.plot(x, y, 'k.')\n    return m\n\nplot_quakes(alaska)",
     "language": "python",
     "metadata": {},
     "outputs": [
      {
       "ename": "NameError",
       "evalue": "name 'alaska' is not defined",
       "output_type": "pyerr",
       "traceback": [
        "\u001b[0;31m---------------------------------------------------------------------------\u001b[0m\n\u001b[0;31mNameError\u001b[0m                                 Traceback (most recent call last)",
        "\u001b[0;32m<ipython-input-43-1df39453cd7c>\u001b[0m in \u001b[0;36m<module>\u001b[0;34m()\u001b[0m\n\u001b[1;32m     14\u001b[0m     \u001b[0;32mreturn\u001b[0m \u001b[0mm\u001b[0m\u001b[0;34m\u001b[0m\u001b[0m\n\u001b[1;32m     15\u001b[0m \u001b[0;34m\u001b[0m\u001b[0m\n\u001b[0;32m---> 16\u001b[0;31m \u001b[0mplot_quakes\u001b[0m\u001b[0;34m(\u001b[0m\u001b[0malaska\u001b[0m\u001b[0;34m)\u001b[0m\u001b[0;34m\u001b[0m\u001b[0m\n\u001b[0m",
        "\u001b[0;31mNameError\u001b[0m: name 'alaska' is not defined"
       ]
      }
     ],
     "prompt_number": 43
    },
    {
     "cell_type": "markdown",
     "metadata": {},
     "source": "What if we want to plot the earthquakes from somewhere other than Alaska?"
    },
    {
     "cell_type": "code",
     "collapsed": false,
     "input": "from mpl_toolkits.basemap import Basemap\n\n# plot_quakes plots the earthquakes in a rectangular region around coordinates in latitude and longitude from the earthquake \n# data in quakes. The rectangular region is defined by dimensions (latitude x longitude), where:\n# \tllcrnrlon = longitude - dimensions[2]/2 (longitude of lower left corner of region)\n#\turcrnrlon = longitide + dimensions[2]/2 (longitude of upper right corner of region)\n#\tllcrnrlat = latitude - dimensions[1]/2 (latitude of lower left corner of region)\n#\turcrnrlat = latitude + dimensions[1]/2 (latitude of upper right corner of region)\n# the resolution and area threshold (area_thresh) of the map is handled based on the area of the dimensions provided and\n#\n# @param quakes - a data frame containing the earthquake data (need to document proper formatting of data frame)\n# @param longitude - the longitude of the center of the region to be plotted\n# @param latitude - the latitude of the center of the region to be plotted\n# @param dimensions - the dimensions of the region to be plotted (latitude x longitude) as a list [degrees in latitude, degrees in longitude]\n# @param projection - the type of projection ('cyl', 'merc', 'mill', 'cea' or 'gall')\n\ndef plot_quakes(quakes, longitude, latitude, dimensons, projection):\n    \n    # Resolution, stored in res, will be narrowed down based on the area of the dimensions provided\n    threshold = [1,10,100,1000,10000]\n    res = ['f','h','i','l','c']\n    area = dimensions[0]*dimensions[1]\n    \n    for i in range(5):\n        if area <= threshold[i]:\n            res = res[i]\n            break\n        if i == 5:\n            res = res[5]\n\n    # Plot of the region in the map \n    m = Basemap(llcrnrlon=longitude-dimensions[1]/2,\n                llcrnrlat=latitude-dimensions[0]/2,\n                urcrnrlon=longitude+dimensions[1]/2,\n                urcrnrlat=latitude+dimensions[0]/2,\n                resolution=res,\n                projection=projection,\n                lat_0=latitude,lon_0=longitude)\n\t\t\t\t\n    m.drawcoastlines()\n    m.drawcountries()\n    m.fillcontinents(color='coral',lake_color='blue')\n    m.drawmapboundary(fill_color='aqua')\n\t\n    x, y = m(quakes.Longitude, quakes.Latitude)\n    m.plot(x, y, 'k.')\n    return m\n\n# Example:\n# To plot the earthquakes in Southern California, for a data frame for earthquakes structured from our code:\n#\tquakes_df = pd.DataFrame({\"Source\":listPropCode,\"Network\":listPropNet,\"Time\":listPropTime,\"Longitude\":listGeoLongitude,\"Latitude\":listGeoLatitude,\n#\t\"Depth\":listGeoDepth,\"NST\":listPropNst,\"Place\":listPropPlace,\"Magnitude\":listPropMag})\n# Run:\nCalifornia = quakes_df[quakes_df.Source=='ci']\nLongitude = -119.5\nLatitude = 37\ndimensions = [11,10]\nprojection = 'merc'\n# \nplot_quakes(California, Longitude, Latitude, dimensions, projection)",
     "language": "python",
     "metadata": {},
     "outputs": [
      {
       "output_type": "pyout",
       "prompt_number": 38,
       "text": "<mpl_toolkits.basemap.Basemap at 0x4781e90>"
      },
      {
       "output_type": "display_data",
       "png": "[encoded data removed]"
      }
     ],
     "prompt_number": 38
    },
    {
     "cell_type": "code",
     "collapsed": false,
     "input": "",
     "language": "python",
     "metadata": {},
     "outputs": []
    }
   ],
   "metadata": {}
  }
 ]
}