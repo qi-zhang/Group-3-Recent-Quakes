{
 "metadata": {
  "name": "Recent Earthquakes"
 },
 "nbformat": 3,
 "nbformat_minor": 0,
 "worksheets": [
  {
   "cells": [
    {
     "cell_type": "markdown",
     "metadata": {},
     "source": "We decided to continue using the csv format even though it will soon become obsolete so that we would have some final product we could use. We spent a lot of time trying to parse the geojson data but we did not know enough python and JSON to do so effectively.\nUse [urllib](http://docs.python.org/2/library/urllib.html) to open arbitrary resources by URL and pass that data to the [read_csv](http://pandas.pydata.org/pandas-docs/stable/generated/pandas.io.parsers.read_csv.html) function of pandas. Then print out the first few rows of data using pandas [Indexing and Selecting Data](http://pandas.pydata.org/pandas-docs/dev/indexing.html). "
    },
    {
     "cell_type": "code",
     "collapsed": false,
     "input": "import urllib\nfrom pandas import read_csv\nimport pandas as pd\n\nurl = 'http://earthquake.usgs.gov/earthquakes/catalogs/eqs7day-M1.txt'\ndata = read_csv(urllib.urlopen(url))\n",
     "language": "python",
     "metadata": {},
     "outputs": [
      {
       "output_type": "stream",
       "stream": "stderr",
       "text": "/usr/local/lib/python2.7/dist-packages/pytz/__init__.py:29: UserWarning: Module dap was already imported from None, but /usr/lib/python2.7/dist-packages is being added to sys.path\n  from pkg_resources import resource_stream\n"
      }
     ],
     "prompt_number": 2
    },
    {
     "cell_type": "markdown",
     "metadata": {},
     "source": "Now we need to cache the data so that it can be used in the future when the USGS stops publishing data in this way."
    },
    {
     "cell_type": "code",
     "collapsed": false,
     "input": "from datetime import datetime\nnow=datetime.now()\nnow=str(now)\ndate = now.split()[0]\nfeed = url.split(\"/\")[len(url.split(\"/\"))-1]\nfeed = feed.split(\".\")[0]\nfilename = feed+\"-\"+date+\".csv\"\nprint filename\ndata.to_csv(filename)",
     "language": "python",
     "metadata": {},
     "outputs": [
      {
       "output_type": "stream",
       "stream": "stdout",
       "text": "eqs7day-M1-2013-10-19.csv\n"
      }
     ],
     "prompt_number": 3
    },
    {
     "cell_type": "markdown",
     "metadata": {},
     "source": "You can then look inside your directory to see the new file cached from the live data you just downloaded. "
    },
    {
     "cell_type": "code",
     "collapsed": false,
     "input": "ls\n",
     "language": "python",
     "metadata": {},
     "outputs": [
      {
       "output_type": "stream",
       "stream": "stdout",
       "text": "eqs7day-M1-2013-10-19      README.md\r\neqs7day-M12013-10-19       RecentEarthquakesFeed.ipynb\r\neqs7day-M1-2013-10-19.csv  RecentEarthquakesFeed.py\r\nMag1PastWeek2013-10-19     Recent Earthquakes.ipynb\r\n\u001b[0m\u001b[01;34mpandas\u001b[0m/                    Recent Earthquakes.py\r\n"
      }
     ],
     "prompt_number": 4
    },
    {
     "cell_type": "markdown",
     "metadata": {},
     "source": "If you want to use a cached copy of the data, simply pick one from your "
    },
    {
     "cell_type": "code",
     "collapsed": false,
     "input": "cached_data = read_csv(\"eqs7day-M1-2013-10-19.csv\")\ncached_data = pd.DataFrame(cached_data)\ncached_data[0:10]",
     "language": "python",
     "metadata": {},
     "outputs": [
      {
       "html": "<div style=\"max-height:1000px;max-width:1500px;overflow:auto;\">\n<table border=\"1\" class=\"dataframe\">\n  <thead>\n    <tr style=\"text-align: right;\">\n      <th></th>\n      <th>Unnamed: 0</th>\n      <th>Src</th>\n      <th>Eqid</th>\n      <th>Version</th>\n      <th>Datetime</th>\n      <th>Lat</th>\n      <th>Lon</th>\n      <th>Magnitude</th>\n      <th>Depth</th>\n      <th>NST</th>\n      <th>Region</th>\n    </tr>\n  </thead>\n  <tbody>\n    <tr>\n      <th>0</th>\n      <td> 0</td>\n      <td> This USGS data file has been deprecated. To co...</td>\n      <td>      NaN</td>\n      <td> NaN</td>\n      <td>                                     NaN</td>\n      <td>     NaN</td>\n      <td>      NaN</td>\n      <td> NaN</td>\n      <td>   NaN</td>\n      <td>NaN</td>\n      <td>                              NaN</td>\n    </tr>\n    <tr>\n      <th>1</th>\n      <td> 1</td>\n      <td>                                                ci</td>\n      <td> 11380962</td>\n      <td>   2</td>\n      <td> Saturday, October 19, 2013 22:13:50 UTC</td>\n      <td> 35.0973</td>\n      <td>-117.1453</td>\n      <td> 1.4</td>\n      <td>   7.8</td>\n      <td> 27</td>\n      <td>              Southern California</td>\n    </tr>\n    <tr>\n      <th>2</th>\n      <td> 2</td>\n      <td>                                                ci</td>\n      <td> 11380954</td>\n      <td>   2</td>\n      <td> Saturday, October 19, 2013 21:55:20 UTC</td>\n      <td> 35.0978</td>\n      <td>-117.1468</td>\n      <td> 1.8</td>\n      <td>   7.5</td>\n      <td> 34</td>\n      <td>              Southern California</td>\n    </tr>\n    <tr>\n      <th>3</th>\n      <td> 3</td>\n      <td>                                                ak</td>\n      <td> 10827016</td>\n      <td>   1</td>\n      <td> Saturday, October 19, 2013 21:38:28 UTC</td>\n      <td> 62.8070</td>\n      <td>-149.8005</td>\n      <td> 1.8</td>\n      <td>  49.3</td>\n      <td>  7</td>\n      <td>                   Central Alaska</td>\n    </tr>\n    <tr>\n      <th>4</th>\n      <td> 4</td>\n      <td>                                                ak</td>\n      <td> 10827009</td>\n      <td>   1</td>\n      <td> Saturday, October 19, 2013 21:35:47 UTC</td>\n      <td> 61.5215</td>\n      <td>-146.5167</td>\n      <td> 2.3</td>\n      <td>  29.1</td>\n      <td> 29</td>\n      <td>                  Southern Alaska</td>\n    </tr>\n    <tr>\n      <th>5</th>\n      <td> 5</td>\n      <td>                                                pr</td>\n      <td> 13292006</td>\n      <td>   0</td>\n      <td> Saturday, October 19, 2013 21:32:12 UTC</td>\n      <td> 18.1506</td>\n      <td> -68.1155</td>\n      <td> 3.2</td>\n      <td> 102.0</td>\n      <td> 13</td>\n      <td> Mona Passage, Dominican Republic</td>\n    </tr>\n    <tr>\n      <th>6</th>\n      <td> 6</td>\n      <td>                                                nc</td>\n      <td> 72090991</td>\n      <td>   0</td>\n      <td> Saturday, October 19, 2013 21:31:03 UTC</td>\n      <td> 36.6077</td>\n      <td>-121.0975</td>\n      <td> 1.6</td>\n      <td>   5.7</td>\n      <td> 17</td>\n      <td>               Central California</td>\n    </tr>\n    <tr>\n      <th>7</th>\n      <td> 7</td>\n      <td>                                                ci</td>\n      <td> 11380938</td>\n      <td>   2</td>\n      <td> Saturday, October 19, 2013 21:06:19 UTC</td>\n      <td> 35.9468</td>\n      <td>-117.6545</td>\n      <td> 1.1</td>\n      <td>   2.6</td>\n      <td>  9</td>\n      <td>               Central California</td>\n    </tr>\n    <tr>\n      <th>8</th>\n      <td> 8</td>\n      <td>                                                ak</td>\n      <td> 10827000</td>\n      <td>   1</td>\n      <td> Saturday, October 19, 2013 21:04:33 UTC</td>\n      <td> 62.4046</td>\n      <td>-148.3567</td>\n      <td> 1.9</td>\n      <td>  26.7</td>\n      <td> 24</td>\n      <td>                   Central Alaska</td>\n    </tr>\n    <tr>\n      <th>9</th>\n      <td> 9</td>\n      <td>                                                nc</td>\n      <td> 72090976</td>\n      <td>   1</td>\n      <td> Saturday, October 19, 2013 20:49:03 UTC</td>\n      <td> 40.7387</td>\n      <td>-124.8830</td>\n      <td> 2.6</td>\n      <td>   0.3</td>\n      <td> 25</td>\n      <td>     offshore Northern California</td>\n    </tr>\n  </tbody>\n</table>\n</div>",
       "output_type": "pyout",
       "prompt_number": 5,
       "text": "   Unnamed: 0                                                Src      Eqid  \\\n0           0  This USGS data file has been deprecated. To co...       NaN   \n1           1                                                 ci  11380962   \n2           2                                                 ci  11380954   \n3           3                                                 ak  10827016   \n4           4                                                 ak  10827009   \n5           5                                                 pr  13292006   \n6           6                                                 nc  72090991   \n7           7                                                 ci  11380938   \n8           8                                                 ak  10827000   \n9           9                                                 nc  72090976   \n\n  Version                                 Datetime      Lat       Lon  \\\n0     NaN                                      NaN      NaN       NaN   \n1       2  Saturday, October 19, 2013 22:13:50 UTC  35.0973 -117.1453   \n2       2  Saturday, October 19, 2013 21:55:20 UTC  35.0978 -117.1468   \n3       1  Saturday, October 19, 2013 21:38:28 UTC  62.8070 -149.8005   \n4       1  Saturday, October 19, 2013 21:35:47 UTC  61.5215 -146.5167   \n5       0  Saturday, October 19, 2013 21:32:12 UTC  18.1506  -68.1155   \n6       0  Saturday, October 19, 2013 21:31:03 UTC  36.6077 -121.0975   \n7       2  Saturday, October 19, 2013 21:06:19 UTC  35.9468 -117.6545   \n8       1  Saturday, October 19, 2013 21:04:33 UTC  62.4046 -148.3567   \n9       1  Saturday, October 19, 2013 20:49:03 UTC  40.7387 -124.8830   \n\n   Magnitude  Depth  NST                            Region  \n0        NaN    NaN  NaN                               NaN  \n1        1.4    7.8   27               Southern California  \n2        1.8    7.5   34               Southern California  \n3        1.8   49.3    7                    Central Alaska  \n4        2.3   29.1   29                   Southern Alaska  \n5        3.2  102.0   13  Mona Passage, Dominican Republic  \n6        1.6    5.7   17                Central California  \n7        1.1    2.6    9                Central California  \n8        1.9   26.7   24                    Central Alaska  \n9        2.6    0.3   25      offshore Northern California  "
      }
     ],
     "prompt_number": 5
    },
    {
     "cell_type": "markdown",
     "metadata": {},
     "source": "Back to the cleaning of the data.\nAfter following the link given by the error, we see that pursuant to the USGS policy, the current data feed will be available for at at least thirty days after the posting of the deprecation notice."
    },
    {
     "cell_type": "code",
     "collapsed": false,
     "input": "print data[0:1]['Src'].values[0]",
     "language": "python",
     "metadata": {},
     "outputs": [
      {
       "output_type": "stream",
       "stream": "stdout",
       "text": "This USGS data file has been deprecated. To continue receiving updates for earthquake information you must switch to the new data format [http://earthquake.usgs.gov/earthquakes/feed/]. In the future, data feeds will be updated and deprecated following our official deprecation policy [http://earthquake.usgs.gov/earthquakes/feed/policy.php].\n"
      }
     ],
     "prompt_number": 3
    },
    {
     "cell_type": "code",
     "collapsed": false,
     "input": "",
     "language": "python",
     "metadata": {},
     "outputs": []
    },
    {
     "cell_type": "markdown",
     "metadata": {},
     "source": "We can filter out the dirty data using [dropna](http://pandas.pydata.org/pandas-docs/dev/generated/pandas.DataFrame.dropna.html) to drop any rows that contain **NaN**."
    },
    {
     "cell_type": "code",
     "collapsed": false,
     "input": "clean_data = data.dropna(axis=0, how='any')\nclean_data[0:3]",
     "language": "python",
     "metadata": {},
     "outputs": [
      {
       "html": "<div style=\"max-height:1000px;max-width:1500px;overflow:auto;\">\n<table border=\"1\" class=\"dataframe\">\n  <thead>\n    <tr style=\"text-align: right;\">\n      <th></th>\n      <th>Src</th>\n      <th>Eqid</th>\n      <th>Version</th>\n      <th>Datetime</th>\n      <th>Lat</th>\n      <th>Lon</th>\n      <th>Magnitude</th>\n      <th>Depth</th>\n      <th>NST</th>\n      <th>Region</th>\n    </tr>\n  </thead>\n  <tbody>\n    <tr>\n      <th>1</th>\n      <td> ak</td>\n      <td> 10827016</td>\n      <td> 1</td>\n      <td> Saturday, October 19, 2013 21:38:28 UTC</td>\n      <td> 62.8070</td>\n      <td>-149.8005</td>\n      <td> 1.8</td>\n      <td> 49.3</td>\n      <td>  7</td>\n      <td>     Central Alaska</td>\n    </tr>\n    <tr>\n      <th>2</th>\n      <td> ak</td>\n      <td> 10827009</td>\n      <td> 1</td>\n      <td> Saturday, October 19, 2013 21:35:47 UTC</td>\n      <td> 61.5215</td>\n      <td>-146.5167</td>\n      <td> 2.3</td>\n      <td> 29.1</td>\n      <td> 29</td>\n      <td>    Southern Alaska</td>\n    </tr>\n    <tr>\n      <th>3</th>\n      <td> nc</td>\n      <td> 72090991</td>\n      <td> 0</td>\n      <td> Saturday, October 19, 2013 21:31:03 UTC</td>\n      <td> 36.6077</td>\n      <td>-121.0975</td>\n      <td> 1.6</td>\n      <td>  5.7</td>\n      <td> 17</td>\n      <td> Central California</td>\n    </tr>\n  </tbody>\n</table>\n</div>",
       "output_type": "pyout",
       "prompt_number": 4,
       "text": "  Src      Eqid Version                                 Datetime      Lat  \\\n1  ak  10827016       1  Saturday, October 19, 2013 21:38:28 UTC  62.8070   \n2  ak  10827009       1  Saturday, October 19, 2013 21:35:47 UTC  61.5215   \n3  nc  72090991       0  Saturday, October 19, 2013 21:31:03 UTC  36.6077   \n\n        Lon  Magnitude  Depth  NST              Region  \n1 -149.8005        1.8   49.3    7      Central Alaska  \n2 -146.5167        2.3   29.1   29     Southern Alaska  \n3 -121.0975        1.6    5.7   17  Central California  "
      }
     ],
     "prompt_number": 4
    },
    {
     "cell_type": "markdown",
     "metadata": {},
     "source": "In the code above note that I saved the results of `data.dropna()` into a different variable `clean_data` rather than over-writing the old variable `data`. **Why?** Why not just re-use old variable names? And if we did re-use old variable names what extra danger do we have to keep in mind while using the IPython Notebook?"
    },
    {
     "cell_type": "markdown",
     "metadata": {},
     "source": "Now let's just focus on earthquakes in Alaska (my home state! :)"
    },
    {
     "cell_type": "code",
     "collapsed": false,
     "input": "alaska = clean_data[clean_data.Src == 'ak']\nalaska[0:10]",
     "language": "python",
     "metadata": {},
     "outputs": []
    },
    {
     "cell_type": "code",
     "collapsed": false,
     "input": "from mpl_toolkits.basemap import Basemap\n\ndef plot_quakes(quakes):\n    m = Basemap(llcrnrlon=-180,llcrnrlat=50.,\n                urcrnrlon=-120.,urcrnrlat=72,\n                resolution='l',area_thresh=1000.,projection='merc',\n                lat_0=62.9540,lon_0=-149.2697)\n    m.drawcoastlines()\n    m.drawcountries()\n    m.fillcontinents(color='coral',lake_color='blue')\n    m.drawmapboundary(fill_color='aqua')\n    x, y = m(quakes.Lon, quakes.Lat)\n    m.plot(x, y, 'k.')\n    return m\n\nplot_quakes(alaska)",
     "language": "python",
     "metadata": {},
     "outputs": []
    }
   ],
   "metadata": {}
  }
 ]
}